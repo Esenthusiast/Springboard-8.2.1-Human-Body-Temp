{
 "cells": [
  {
   "cell_type": "markdown",
   "metadata": {},
   "source": [
    "\n",
    "### Examining racial discrimination in the US job market\n",
    "\n",
    "#### Background\n",
    "Racial discrimination continues to be pervasive in cultures throughout the world. Researchers examined the level of racial discrimination in the United States labor market by randomly assigning identical résumés black-sounding or white-sounding names and observing the impact on requests for interviews from employers.\n",
    "\n",
    "#### Data\n",
    "In the dataset provided, each row represents a resume. The 'race' column has two values, 'b' and 'w', indicating black-sounding and white-sounding. The column 'call' has two values, 1 and 0, indicating whether the resume received a call from employers or not.\n",
    "\n",
    "Note that the 'b' and 'w' values in race are assigned randomly to the resumes.\n",
    "\n",
    "#### Exercise\n",
    "Perform a statistical analysis to establish whether race has a significant impact on the rate of callbacks for resumes.\n",
    "\n",
    "\n",
    "#### Resources\n",
    "+ Experiment information and data source: http://www.povertyactionlab.org/evaluation/discrimination-job-market-united-states\n",
    "+ Scipy statistical methods: http://docs.scipy.org/doc/scipy/reference/stats.html "
   ]
  },
  {
   "cell_type": "markdown",
   "metadata": {},
   "source": [
    "****"
   ]
  },
  {
   "cell_type": "code",
   "execution_count": 62,
   "metadata": {
    "collapsed": true
   },
   "outputs": [],
   "source": [
    "import pandas as pd\n",
    "import numpy as np\n",
    "import matplotlib.pyplot as plt\n",
    "from scipy import stats"
   ]
  },
  {
   "cell_type": "code",
   "execution_count": 63,
   "metadata": {
    "collapsed": true
   },
   "outputs": [],
   "source": [
    "data = pd.io.stata.read_stata('C:/Users/Esme/Desktop/SpringBoard/Lesson_8_Jupyter_Human_Temp/data_wrangling_json/racial_disc/data/us_job_market_discrimination.dta')"
   ]
  },
  {
   "cell_type": "code",
   "execution_count": 64,
   "metadata": {},
   "outputs": [
    {
     "name": "stdout",
     "output_type": "stream",
     "text": [
      "total black calls: 157.0\n",
      "total white calls: 235.0\n"
     ]
    }
   ],
   "source": [
    "# number of callbacks for balck-sounding names\n",
    "total_black = sum(data[data.race=='b'].call)\n",
    "print(\"total black calls:\", total_black)\n",
    "\n",
    "total_white = sum(data[data.race=='w'].call)\n",
    "print(\"total white calls:\", total_white)"
   ]
  },
  {
   "cell_type": "markdown",
   "metadata": {
    "collapsed": true
   },
   "source": [
    "****\n",
    "\n",
    "# Exercise\n",
    "\n",
    "   1. What test is appropriate for this problem? Does CLT apply?\n",
    "   2. What are the null and alternate hypotheses?\n",
    "   3. Compute margin of error, confidence interval, and p-value.\n",
    "   4. Discuss statistical significance.\n",
    "    \n",
    "You can include written notes in notebook cells using Markdown: \n",
    "   - In the control panel at the top, choose Cell > Cell Type > Markdown\n",
    "   - Markdown syntax: http://nestacms.com/docs/creating-content/markdown-cheat-sheet\n",
    "   \n",
    "****"
   ]
  },
  {
   "cell_type": "code",
   "execution_count": 65,
   "metadata": {},
   "outputs": [
    {
     "name": "stdout",
     "output_type": "stream",
     "text": [
      "  id ad  education  ofjobs  yearsexp  honors  volunteer  military  empholes  \\\n",
      "0  b  1          4       2         6       0          0         0         1   \n",
      "1  b  1          3       3         6       0          1         1         0   \n",
      "2  b  1          4       1         6       0          0         0         0   \n",
      "3  b  1          3       4         6       0          1         0         1   \n",
      "4  b  1          3       3        22       0          0         0         0   \n",
      "\n",
      "   occupspecific    ...      compreq  orgreq  manuf  transcom  bankreal trade  \\\n",
      "0             17    ...          1.0     0.0    1.0       0.0       0.0   0.0   \n",
      "1            316    ...          1.0     0.0    1.0       0.0       0.0   0.0   \n",
      "2             19    ...          1.0     0.0    1.0       0.0       0.0   0.0   \n",
      "3            313    ...          1.0     0.0    1.0       0.0       0.0   0.0   \n",
      "4            313    ...          1.0     1.0    0.0       0.0       0.0   0.0   \n",
      "\n",
      "  busservice othservice  missind  ownership  \n",
      "0        0.0        0.0      0.0             \n",
      "1        0.0        0.0      0.0             \n",
      "2        0.0        0.0      0.0             \n",
      "3        0.0        0.0      0.0             \n",
      "4        0.0        1.0      0.0  Nonprofit  \n",
      "\n",
      "[5 rows x 65 columns]\n"
     ]
    }
   ],
   "source": [
    "print(data.head(5))"
   ]
  },
  {
   "cell_type": "code",
   "execution_count": 80,
   "metadata": {},
   "outputs": [
    {
     "name": "stdout",
     "output_type": "stream",
     "text": [
      "  id ad  education  ofjobs  yearsexp  honors  volunteer  military  empholes  \\\n",
      "2  b  1          4       1         6       0          0         0         0   \n",
      "3  b  1          3       4         6       0          1         0         1   \n",
      "7  b  1          3       4        21       0          1         0         1   \n",
      "8  b  1          4       3         3       0          0         0         0   \n",
      "9  b  1          4       2         6       0          1         0         0   \n",
      "\n",
      "   occupspecific    ...      compreq  orgreq  manuf  transcom  bankreal trade  \\\n",
      "2             19    ...          1.0     0.0    1.0       0.0       0.0   0.0   \n",
      "3            313    ...          1.0     0.0    1.0       0.0       0.0   0.0   \n",
      "7            313    ...          1.0     1.0    0.0       0.0       0.0   0.0   \n",
      "8            316    ...          0.0     0.0    0.0       0.0       0.0   1.0   \n",
      "9            263    ...          0.0     0.0    0.0       0.0       0.0   1.0   \n",
      "\n",
      "  busservice othservice  missind  ownership  \n",
      "2        0.0        0.0      0.0             \n",
      "3        0.0        0.0      0.0             \n",
      "7        0.0        1.0      0.0  Nonprofit  \n",
      "8        0.0        0.0      0.0    Private  \n",
      "9        0.0        0.0      0.0    Private  \n",
      "\n",
      "[5 rows x 65 columns]\n",
      "total results with black sounding names: 2435\n",
      "total results with white sounding names: 2435\n"
     ]
    }
   ],
   "source": [
    "b_data = data[data.race=='b']\n",
    "w_data = data[data.race=='w']\n",
    "\n",
    "\n",
    "print( 'total results with black sounding names:', + len(b_data))\n",
    "print('total results with white sounding names:', + len(w_data))"
   ]
  },
  {
   "cell_type": "markdown",
   "metadata": {
    "collapsed": true
   },
   "source": [
    "1) We can assume independent variables (1 or 0 finding in the B  does not change W group) and the len of overal data is > 30 and the number of black sounding names and white sounding names in the sample are equivilent.\n",
    "\n",
    "Therefore CLT can apply, and a 2 sided t test could work. \n",
    "In this I will be finding a mean of the B and W group and identifying w/ a 2 sided T test if I need to accept or reject the null hypothesis:\n",
    "2) \n",
    "H0:  mean of black sounding name call-backs and white-sounding name call-backs are the same\n",
    "H1: mean are not the same\n",
    "p value of 0.05"
   ]
  },
  {
   "cell_type": "markdown",
   "metadata": {},
   "source": [
    "3) Compute margin of error, confidence interval, and p-value."
   ]
  },
  {
   "cell_type": "markdown",
   "metadata": {},
   "source": [
    "To get the values for these I am going to try cleaning up the data and ioslating what I need. I have tried the same stats.ttest_ind() I used in the last problem. However I keep running into an error of NaN values. So I will check and clean the data (extract NaN values) from race and call back results. "
   ]
  },
  {
   "cell_type": "code",
   "execution_count": 81,
   "metadata": {},
   "outputs": [
    {
     "name": "stdout",
     "output_type": "stream",
     "text": [
      "total results with black sounding names: 2435\n",
      "total results with white sounding names: 2435\n",
      "total black calls: 157.0\n",
      "total white calls: 235.0\n",
      "  race  call\n",
      "2    b   0.0\n",
      "3    b   0.0\n",
      "7    b   0.0\n",
      "8    b   0.0\n",
      "9    b   0.0\n"
     ]
    }
   ],
   "source": [
    "simple_data = data[['race', 'call']].copy()\n",
    "clean_data = simple_data.dropna()\n",
    "\n",
    "b_data_c = clean_data[clean_data.race=='b']\n",
    "w_data_c = clean_data[clean_data.race=='w']\n",
    "\n",
    "print( 'total results with black sounding names:', + len(b_data_c))\n",
    "print('total results with white sounding names:', + len(w_data_c))\n",
    "\n",
    "\n",
    "total_black_c = sum(clean_data[clean_data.race=='b'].call)\n",
    "print(\"total black calls:\", total_black_c)\n",
    "\n",
    "total_white_c = sum(clean_data[clean_data.race=='w'].call)\n",
    "print(\"total white calls:\", total_white_c)\n",
    "\n"
   ]
  },
  {
   "cell_type": "markdown",
   "metadata": {},
   "source": [
    "Same number of results as above. No data removed and ttest_ind is still not working. I will be using ttest_ind_from_stats to get pvalue. "
   ]
  },
  {
   "cell_type": "code",
   "execution_count": 87,
   "metadata": {},
   "outputs": [
    {
     "name": "stdout",
     "output_type": "stream",
     "text": [
      "ttest_ind_from_stats: t= call   -4.115583\n",
      "dtype: float32\n",
      "ttest_ind_from_stats: p= [  3.92801240e-05]\n",
      "Mean of Black names call back rate: call    0.064476\n",
      "dtype: float32\n",
      "Mean of White names call back rate: call    0.096509\n",
      "dtype: float32\n",
      "Variance of black names call back rate: call    0.060319\n",
      "dtype: float32\n",
      "Variance of white names call back rate: call    0.087193\n",
      "dtype: float32\n",
      "Std of black names call back rate: call    0.245599\n",
      "dtype: float32\n",
      "Std of white names call back rate: call    0.295285\n",
      "dtype: float32\n"
     ]
    }
   ],
   "source": [
    "mean_b = np.mean(b_data_c)\n",
    "mean_w = np.mean(w_data_c)\n",
    "var_b = np.var(b_data_c)\n",
    "var_w = np.var(w_data_c)\n",
    "n_b = len(b_data_c)\n",
    "n_w = len(w_data_c)\n",
    "\n",
    "std_b = np.std(b_data_c)\n",
    "std_w = np.std(w_data_c)\n",
    "\n",
    "t, p = stats.ttest_ind_from_stats(mean_b, np.sqrt(var_b), n_b,\n",
    "                           mean_w, np.sqrt(var_w), n_w,\n",
    "                           equal_var= False)\n",
    "\n",
    "print(\"ttest_ind_from_stats: t=\", t)\n",
    "print(\"ttest_ind_from_stats: p=\", p)\n",
    "\n",
    "print(\"Mean of Black names call back rate:\", mean_b)\n",
    "print(\"Mean of White names call back rate:\", mean_w)\n",
    "\n",
    "print(\"Variance of black names call back rate:\", var_b)\n",
    "print(\"Variance of white names call back rate:\", var_w)\n",
    "\n",
    "print(\"Std of black names call back rate:\", std_b)\n",
    "print(\"Std of white names call back rate:\", std_w)\n"
   ]
  },
  {
   "cell_type": "markdown",
   "metadata": {
    "collapsed": true
   },
   "source": [
    "## As we have the mean we can get the margin of error: "
   ]
  },
  {
   "cell_type": "code",
   "execution_count": 90,
   "metadata": {},
   "outputs": [
    {
     "name": "stdout",
     "output_type": "stream",
     "text": [
      "The true population proportion lies +/- 0.015255 around the point estimate\n"
     ]
    }
   ],
   "source": [
    "se_CI = np.sqrt((mean_b*(1 - mean_b)/(len(b_data_c))) + (mean_w*(1 - mean_w) /(len(w_data_c))))\n",
    "se_CI\n",
    "\n",
    "# We are calculating at the 5% significance level so our critical value is 1.96\n",
    "crit = 1.96\n",
    "margin = abs(crit*se_CI)\n",
    "print(\"The true population proportion lies +/- %0.6F around the point estimate\" % margin)"
   ]
  },
  {
   "cell_type": "markdown",
   "metadata": {},
   "source": [
    "The P value is statistically significant (3.92801240e-05 < 0.05), and requires we reject the null hypothesis. I.e. there is a statistically significant difference of the rate of call-backs for white-sounding and black-sounding names \n",
    "\n",
    "However there are more numbers to find. \n",
    "\n",
    "## The confidence intervel:\n",
    "To find the confidence interval looking at race ast eh explanatory variable and call as the response variable (or dependent variable) with each data set. "
   ]
  },
  {
   "cell_type": "code",
   "execution_count": 95,
   "metadata": {},
   "outputs": [
    {
     "name": "stdout",
     "output_type": "stream",
     "text": [
      "call    0.032033\n",
      "dtype: float32\n",
      "The proportion of CVs with white-sounding names that recieve a call is between 0.016777 and 0.047288 higher than the proportion of CVS with black-sounding names\n"
     ]
    }
   ],
   "source": [
    "# difference in probability\n",
    "mean_diff= mean_w - mean_b\n",
    "print(mean_diff)\n",
    "\n",
    "CI_high = mean_diff + margin\n",
    "CI_low = mean_diff - margin\n",
    "\n",
    "print(\"The proportion of CVs with white-sounding names that recieve a call is between %0.6F and %0.6F higher than the proportion of CVS with black-sounding names\" % (CI_low,CI_high))\n"
   ]
  },
  {
   "cell_type": "markdown",
   "metadata": {},
   "source": [
    "Confidence interval agrees with the p-value: \n",
    "white-sounding names recieve more vall-backs then black-sounding names\n",
    "\n",
    "## 4 discuss what it means: \n",
    "\n",
    "The P value of 0.0000388... means that the chance of this data happening by chance and the null hypothesis being true is 0.00388%. The confidence interval mathematically agrees that the likelhood of a white-sounding name call back from the data provided is higher then a black-sounding name - to a signifincant degree. "
   ]
  },
  {
   "cell_type": "code",
   "execution_count": null,
   "metadata": {
    "collapsed": true
   },
   "outputs": [],
   "source": []
  }
 ],
 "metadata": {
  "kernelspec": {
   "display_name": "Python 3",
   "language": "python",
   "name": "python3"
  },
  "language_info": {
   "codemirror_mode": {
    "name": "ipython",
    "version": 3
   },
   "file_extension": ".py",
   "mimetype": "text/x-python",
   "name": "python",
   "nbconvert_exporter": "python",
   "pygments_lexer": "ipython3",
   "version": "3.6.1"
  }
 },
 "nbformat": 4,
 "nbformat_minor": 1
}
