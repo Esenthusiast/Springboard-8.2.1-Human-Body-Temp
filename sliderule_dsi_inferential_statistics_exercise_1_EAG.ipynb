{
 "cells": [
  {
   "cell_type": "markdown",
   "metadata": {},
   "source": [
    "# What is the True Normal Human Body Temperature? \n",
    "\n",
    "#### Background\n",
    "\n",
    "The mean normal body temperature was held to be 37$^{\\circ}$C or 98.6$^{\\circ}$F for more than 120 years since it was first conceptualized and reported by Carl Wunderlich in a famous 1868 book. But, is this value statistically correct?"
   ]
  },
  {
   "cell_type": "markdown",
   "metadata": {},
   "source": [
    "<h3>Exercises</h3>\n",
    "\n",
    "<p>In this exercise, you will analyze a dataset of human body temperatures and employ the concepts of hypothesis testing, confidence intervals, and statistical significance.</p>\n",
    "\n",
    "<p>Answer the following questions <b>in this notebook below and submit to your Github account</b>.</p> \n",
    "\n",
    "<ol>\n",
    "<li>  Is the distribution of body temperatures normal? \n",
    "    <ul>\n",
    "    <li> Although this is not a requirement for CLT to hold (read CLT carefully), it gives us some peace of mind that the population may also be normally distributed if we assume that this sample is representative of the population.\n",
    "    </ul>\n",
    "<li>  Is the sample size large? Are the observations independent? \n",
    "<ul>\n",
    "       <b/> The sample size is 130 individuals. It is not a really significant result for a scientific argument. CLT theory that it's enough due to the range in variation being limited and 130>30. The observations are independent. </b> \n",
    "    <ul>\n",
    "    <li> Remember that this is a condition for the CLT, and hence the statistical tests we are using, to apply.\n",
    "    </ul>\n",
    "<li>  Is the true population mean really 98.6 degrees F?\n",
    "            <li>\n",
    "    <ul>\n",
    "    <li> Would you use a one-sample or two-sample test? Why?\n",
    "    <ul>\n",
    "        <b/>     A two sample test would work to compare the male and female temperature results, and see how their variation/mean compares. A one sample test is a better choice to test against a standard and identify the value of the data set. For the question in this problem I would say a one-sample is a better solution.  </b>\n",
    "    <li> In this situation, is it appropriate to use the $t$ or $z$ statistic? \n",
    "    <ul>\n",
    "     <b/> Either can be used in this example. There are enough samples to make STD usabel, so Z-test is valid. a T-test (either 1 way or 2 way) is used to measure how two populations compare to each other- or one to a normal distrubution (for example). For the overarching question: i.e. if this sample shows a different average then previously identified I would use the z-test to identify if this is a good standerd and find the mean. </b> \n",
    "    <li> Now try using the other test. How is the result be different? Why?\n",
    "    </ul>\n",
    "<li>  Draw a small sample of size 10 from the data and repeat both tests. \n",
    "    <ul>\n",
    "    <li> Which one is the correct one to use? \n",
    "    <li> What do you notice? What does this tell you about the difference in application of the $t$ and $z$ statistic?\n",
    "    </ul>\n",
    "<li>  At what temperature should we consider someone's temperature to be \"abnormal\"?\n",
    "    <ul>\n",
    "    <li> Start by computing the margin of error and confidence interval.\n",
    "    </ul>\n",
    "<li>  Is there a significant difference between males and females in normal temperature?\n",
    "    <ul>\n",
    "    <li> What test did you use and why?\n",
    "    <li> Write a story with your conclusion in the context of the original problem.\n",
    "    </ul>\n",
    "</ol>\n",
    "\n",
    "You can include written notes in notebook cells using Markdown: \n",
    "   - In the control panel at the top, choose Cell > Cell Type > Markdown\n",
    "   - Markdown syntax: http://nestacms.com/docs/creating-content/markdown-cheat-sheet\n",
    "\n",
    "#### Resources\n",
    "\n",
    "+ Information and data sources: http://www.amstat.org/publications/jse/datasets/normtemp.txt, http://www.amstat.org/publications/jse/jse_data_archive.htm\n",
    "+ Markdown syntax: http://nestacms.com/docs/creating-content/markdown-cheat-sheet\n",
    "\n",
    "****"
   ]
  },
  {
   "cell_type": "code",
   "execution_count": 105,
   "metadata": {},
   "outputs": [],
   "source": [
    "import pandas as pd\n",
    "\n",
    "df = pd.read_csv(r'C:\\Users\\Esme\\Desktop\\Springboard\\Lesson_8_Jupyter_Human_Temp\\8_2_1_lesson_stuff\\human_temp\\data\\human_body_temperature.csv')\n"
   ]
  },
  {
   "cell_type": "code",
   "execution_count": 134,
   "metadata": {
    "collapsed": true
   },
   "outputs": [],
   "source": [
    "import numpy as np \n",
    "import matplotlib.pyplot as plt\n",
    "import seaborn as sns\n",
    "import scipy.stats as stats"
   ]
  },
  {
   "cell_type": "code",
   "execution_count": 107,
   "metadata": {},
   "outputs": [
    {
     "name": "stdout",
     "output_type": "stream",
     "text": [
      "   temperature gender  heart_rate\n",
      "0         99.3      F        68.0\n",
      "1         98.4      F        81.0\n",
      "2         97.8      M        73.0\n",
      "3         99.2      F        66.0\n",
      "4         98.0      F        73.0\n",
      "<class 'pandas.core.frame.DataFrame'>\n",
      "RangeIndex: 130 entries, 0 to 129\n",
      "Data columns (total 3 columns):\n",
      "temperature    130 non-null float64\n",
      "gender         130 non-null object\n",
      "heart_rate     130 non-null float64\n",
      "dtypes: float64(2), object(1)\n",
      "memory usage: 3.1+ KB\n"
     ]
    }
   ],
   "source": [
    "# look at data and columns\n",
    "print(df.head())\n",
    "df.info()"
   ]
  },
  {
   "cell_type": "code",
   "execution_count": 109,
   "metadata": {},
   "outputs": [
    {
     "data": {
      "image/png": "[encoded data removed]",
      "text/plain": [
       "<matplotlib.figure.Figure at 0x78c12e8>"
      ]
     },
     "metadata": {},
     "output_type": "display_data"
    }
   ],
   "source": [
    "temperature = df.temperature\n",
    "heart_rate = df.heart_rate\n",
    "\n",
    "# initial Exploratory visualization to look at the data trend\n",
    "_= plt.scatter(temperature , heart_rate, data = df_temp )\n",
    "_= plt.xlabel('Body Temperature')\n",
    "_= plt.ylabel('Heart Rate')\n",
    "_= plt.title(' Scatter plot of Temp Vs. Heart rate')\n",
    "plt.show()"
   ]
  },
  {
   "cell_type": "code",
   "execution_count": 128,
   "metadata": {},
   "outputs": [
    {
     "name": "stdout",
     "output_type": "stream",
     "text": [
      "Sample mean for temp is: 98.24923076923078\n",
      "Sample variance for temp is: 0.5334224852071\n",
      "Sample STD for temp is: 0.7303577789050377\n",
      "Sample mean for heart rate is: 73.76153846153846\n"
     ]
    }
   ],
   "source": [
    "mean_temp = np.mean( temperature)\n",
    "mean_heart_rate = np.mean(heart_rate)\n",
    "var_temp= np.var(temperature)\n",
    "std_temp= np.std(temperature)                    \n",
    "                          \n",
    "print(\"Sample mean for temp is:\", + np.mean( temperature))\n",
    "print (\"Sample variance for temp is:\", + np.var(temperature))\n",
    "print (\"Sample STD for temp is:\", + np.std(temperature))\n",
    "\n",
    "print (\"Sample mean for heart rate is:\", + np.mean(heart_rate))                   "
   ]
  },
  {
   "cell_type": "markdown",
   "metadata": {},
   "source": [
    "1) is this a normal distribution:\n",
    " It looks like from the graph below that the body temperature data in our sample follows normal distribution fairly well\n",
    " plotted historgram under normal distribution curve of the results"
   ]
  },
  {
   "cell_type": "code",
   "execution_count": 126,
   "metadata": {},
   "outputs": [
    {
     "data": {
      "image/png": "[encoded data removed]",
      "text/plain": [
       "<matplotlib.figure.Figure at 0x9a7d8d0>"
      ]
     },
     "metadata": {},
     "output_type": "display_data"
    }
   ],
   "source": [
    "mu = mean_temp\n",
    "var = var_temp\n",
    "sigma = np.sqrt(var)\n",
    "s = np.random.normal(mu, sigma, 1000)\n",
    "count, bins, ignored = plt.hist(s, 30, normed=True)\n",
    "plt.plot(bins, 1/(sigma * np.sqrt(2 * np.pi)) *\n",
    "                np.exp( - (bins - mu)**2 / (2 * sigma**2) ),\n",
    "          linewidth=2, color='r')\n",
    "plt.show()"
   ]
  },
  {
   "cell_type": "markdown",
   "metadata": {},
   "source": [
    "3)  Is the true population mean really 98.6 degrees F?\n",
    "    <li> Would you use a one-sample or two-sample test? Why?\n",
    "    <ul>\n",
    "        <b/>     A two sample test would work to compare the male and female temperature results, and see how their variation/mean compares. A one sample test is a better choice to test against a standard and identify the value of the data set. For the question in this problem I would say a one-sample is a better solution.  </b>\n",
    "        \n",
    "   The null hypothesis is that the mean of temperature data is 98.6 degrees F. \n",
    " H0: mu = 98.6\n",
    " H1: mu =/ 98.6\n",
    " \n",
    " with a p value of .05 an example 2 sided test:\n"
   ]
  },
  {
   "cell_type": "code",
   "execution_count": 137,
   "metadata": {},
   "outputs": [
    {
     "name": "stdout",
     "output_type": "stream",
     "text": [
      "Std Error: 0.0640566146952\n",
      "Z value is:  -5.47592520208\n",
      "p-value is:  4.35231516588e-08\n"
     ]
    }
   ],
   "source": [
    "n = len(temperature)\n",
    "SE = std_temp / np.sqrt(n)\n",
    "print ('Std Error:', SE)\n",
    "\n",
    "z_temp = (mean_temp - 98.6) / SE\n",
    "print ('Z value is: ', z_temp)\n",
    "\n",
    "p_temp_2_sided = stats.norm.sf(abs(z_temp))*2\n",
    "print ('p-value is: ', p_temp_2_sided)"
   ]
  },
  {
   "cell_type": "markdown",
   "metadata": {},
   "source": [
    "Therefore a statistically significant P value to reject the null hypothesis: i.e. our reasults confirm that 98.6 is not the mean body temperature from our sample. "
   ]
  },
  {
   "cell_type": "markdown",
   "metadata": {},
   "source": [
    "In this situation, is it appropriate to use the  tt  or  zz  statistic?\n",
    "Either can be used in this example. There are enough samples to make STD usabel, so Z-test is valid. a T-test (either 1 way or 2 way) is used to measure how two populations compare to each other- or one to a normal distrubution (for example). For the overarching question: i.e. if this sample shows a different average then previously identified I would use the z-test to identify if this is a good standerd and find the mean.\n",
    " And did. Above. :)"
   ]
  },
  {
   "cell_type": "markdown",
   "metadata": {},
   "source": [
    "Now try using the other test. How is the result be different? Why?\n"
   ]
  },
  {
   "cell_type": "code",
   "execution_count": 138,
   "metadata": {},
   "outputs": [
    {
     "data": {
      "text/plain": [
       "Ttest_1sampResult(statistic=-5.4548232923645195, pvalue=2.4106320415561276e-07)"
      ]
     },
     "execution_count": 138,
     "metadata": {},
     "output_type": "execute_result"
    }
   ],
   "source": [
    "stats.ttest_1samp(temperature, 98.6)"
   ]
  },
  {
   "cell_type": "markdown",
   "metadata": {},
   "source": [
    "The exact values were slightly different (-5.47 +/ -5.45 and 2.41...e-07 =/ 4.35...e-08, respectively) Although the final analysis would be the same. i.e. reject null hypothesis therefore the mean is not 98.6"
   ]
  },
  {
   "cell_type": "markdown",
   "metadata": {},
   "source": [
    "4) Draw a small sample of size 10 from the data and repeat both tests. \n",
    "    <ul>\n",
    "    <li> Which one is the correct one to use? \n",
    "    <li> What do you notice? What does this tell you about the difference in application of the $t$ and $z$ statistic?\n",
    "    </ul>\n",
    "<li>  At what temperature should we consider someone's temperature to be \"abnormal\"?\n",
    "    <ul>\n",
    "    <li> Start by computing the margin of error and confidence interval.\n",
    "    </ul>"
   ]
  },
  {
   "cell_type": "code",
   "execution_count": 148,
   "metadata": {
    "collapsed": true
   },
   "outputs": [],
   "source": [
    "# Used ECDF code from DataCamp exercise to make a 10 sample bootstrap sample from our origional sample \n",
    "def ecdf(data):\n",
    "    \"\"\"Compute ECDF for a one-dimensional array of measurements.\"\"\"\n",
    "    # Number of data points: n\n",
    "    n = len(data)\n",
    "    # x-data for the ECDF: x\n",
    "    x = np.sort(data)\n",
    "    # y-data for the ECDF: y\n",
    "    y = np.arange(1, n+1) / n\n",
    "    return x, y"
   ]
  },
  {
   "cell_type": "code",
   "execution_count": 144,
   "metadata": {},
   "outputs": [
    {
     "data": {
      "image/png": "[encoded data removed]",
      "text/plain": [
       "<matplotlib.figure.Figure at 0xc527550>"
      ]
     },
     "metadata": {},
     "output_type": "display_data"
    }
   ],
   "source": [
    "for i in range(10):\n",
    "    # Generate bootstrap sample: bs_sample\n",
    "    bs_sample = np.random.choice(temperature, size=10)\n",
    "\n",
    "    # Compute and plot ECDF from bootstrap sample\n",
    "    x_bs, y_bs = ecdf(bs_sample)\n",
    "    _ = plt.plot(x, y, marker='.', linestyle='none',\n",
    "                 color='gray', alpha=0.1)\n",
    "    \n",
    "\n",
    "# Compute and plot ECDF from original data\n",
    "x, y = ecdf(temperature)\n",
    "_ = plt.plot(x, y, marker='.')\n",
    "\n",
    "# Make margins and label axes\n",
    "plt.margins(0.02)\n",
    "_ = plt.xlabel('Temperature')\n",
    "_ = plt.ylabel('ECDF')\n",
    "\n",
    "# Show the plot\n",
    "plt.show()"
   ]
  },
  {
   "cell_type": "code",
   "execution_count": 145,
   "metadata": {},
   "outputs": [
    {
     "name": "stdout",
     "output_type": "stream",
     "text": [
      "[ 98.6  99.2  98.4  98.   99.3  98.9  98.8  98.6  98.8  98.4]\n"
     ]
    }
   ],
   "source": [
    "print (bs_sample)"
   ]
  },
  {
   "cell_type": "markdown",
   "metadata": {},
   "source": [
    "Repeat t-Test and z_test above with bs_sample"
   ]
  },
  {
   "cell_type": "code",
   "execution_count": 147,
   "metadata": {},
   "outputs": [
    {
     "name": "stdout",
     "output_type": "stream",
     "text": [
      "Std Error Boot Strap Sample: 0.0640566146952\n",
      "Boot Strap Sample Z value is:  0.857492925712\n",
      "p-value is:  0.39117252281\n",
      "T test Boot Strap Sample results are:  Ttest_1sampResult(statistic=0.81348921681991559, pvalue=0.43692928977145418)\n"
     ]
    }
   ],
   "source": [
    "n_bs = len(bs_sample)\n",
    "SE_bs = np.std(bs_sample) / np.sqrt(n_bs)\n",
    "print ('Std Error Boot Strap Sample:', SE)\n",
    "\n",
    "z_temp_bs = (np.mean(bs_sample) - 98.6) / SE_bs\n",
    "print ('Boot Strap Sample Z value is: ', z_temp_bs)\n",
    "\n",
    "p_temp_2_sided_bs = stats.norm.sf(abs(z_temp_bs))*2\n",
    "print ('p-value is: ', p_temp_2_sided_bs)\n",
    "\n",
    "bs_t_test= stats.ttest_1samp(bs_sample, 98.6)\n",
    "\n",
    "print ('T test Boot Strap Sample results are: ', bs_t_test)"
   ]
  },
  {
   "cell_type": "code",
   "execution_count": null,
   "metadata": {
    "collapsed": true
   },
   "outputs": [],
   "source": []
  },
  {
   "cell_type": "markdown",
   "metadata": {},
   "source": [
    "Despite being based on the same data the lack of variation in results gives a very different value the p-value is much higher for both tests(>0.05) and the null hypothesis has to be accepted "
   ]
  },
  {
   "cell_type": "markdown",
   "metadata": {},
   "source": [
    " 5) Is there a significant difference between males and females in normal temperature?\n",
    "    <ul>\n",
    "    <li> What test did you use and why?\n",
    "    <li> Write a story with your conclusion in the context of the original problem.\n",
    "    </ul>\n",
    "</ol>\n",
    "\n",
    "To test this question we need to seperate the M results from the Gender column and F results. \n",
    "Then consider the null hypothesis (H0) that the averages are the same\n",
    "and test hypothesis (H1) that the averages are not the same. Again significance level of 0.05 p value"
   ]
  },
  {
   "cell_type": "code",
   "execution_count": 158,
   "metadata": {},
   "outputs": [
    {
     "name": "stdout",
     "output_type": "stream",
     "text": [
      "Standard error is:  0.12655395042\n",
      "The z score is:  -2.28543453817\n",
      "The p-value is:  0.0222873607607\n",
      "Male temperature average is: 98.1046153846154\n",
      "Female temperature average is: 98.39384615384613\n"
     ]
    }
   ],
   "source": [
    "mean_male = df[df.gender == 'M'].temperature.mean()\n",
    "mean_female = df[df.gender =='F'].temperature.mean()\n",
    "var_male = df[df.gender =='M'].temperature.var()\n",
    "n_male = len(df[df.gender == 'M'].temperature)\n",
    "n_female = len(df[df.gender == 'F'].temperature)\n",
    "var_female = df[df.gender =='F'].temperature.var()\n",
    "SE_gender = np.sqrt(var_male/n_male + var_female/n_female)\n",
    "print ('Standard error is: ', SE_gender)\n",
    "\n",
    "\n",
    "z_gender = (mean_male - mean_female - 0) / SE_gender\n",
    "print ('The z score is: ', z_gender)\n",
    "p_value_gender = stats.norm.sf(abs(z_gender))*2\n",
    "print ('The p-value is: ', p_value_gender)\n",
    "\n",
    "print( 'Male temperature average is:', mean_male)\n",
    "print('Female temperature average is:', mean_female)"
   ]
  },
  {
   "cell_type": "markdown",
   "metadata": {},
   "source": [
    "We reject the null hypothesis and accept the test hypothesis that they are different! Alrighty then\n",
    "\n"
   ]
  },
  {
   "cell_type": "code",
   "execution_count": null,
   "metadata": {
    "collapsed": true
   },
   "outputs": [],
   "source": []
  }
 ],
 "metadata": {
  "kernelspec": {
   "display_name": "Python 3",
   "language": "python",
   "name": "python3"
  },
  "language_info": {
   "codemirror_mode": {
    "name": "ipython",
    "version": 3
   },
   "file_extension": ".py",
   "mimetype": "text/x-python",
   "name": "python",
   "nbconvert_exporter": "python",
   "pygments_lexer": "ipython3",
   "version": "3.6.1"
  }
 },
 "nbformat": 4,
 "nbformat_minor": 1
}
